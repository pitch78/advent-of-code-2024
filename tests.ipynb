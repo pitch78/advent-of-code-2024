{
 "cells": [
  {
   "metadata": {
    "ExecuteTime": {
     "end_time": "2024-12-18T14:01:10.855729Z",
     "start_time": "2024-12-18T14:01:10.811594Z"
    }
   },
   "cell_type": "code",
   "source": [
    "from collections import *\n",
    "from heapq import *\n",
    "from functools import *\n",
    "from math import *\n",
    "import numpy as np\n",
    "import copy\n",
    "\n",
    "data = None\n",
    "room_ = []\n",
    "instructions = []\n",
    "\n",
    "with open('input.txt', 'r') as file:\n",
    "    data = file.readlines()\n",
    "    data = [d.strip() for d in data]\n",
    "    for d in data:\n",
    "        if \"#\" in d:\n",
    "            room_.append([c for c in d])\n",
    "        else:\n",
    "            instructions.append(d)\n",
    "    instructions = ''.join(instructions)"
   ],
   "id": "440eb536b2edc341",
   "outputs": [],
   "execution_count": 1
  },
  {
   "metadata": {
    "ExecuteTime": {
     "end_time": "2024-12-18T14:01:37.253752Z",
     "start_time": "2024-12-18T14:01:37.203492Z"
    }
   },
   "cell_type": "code",
   "source": [
    "directions = [\">\",\"<\",\"^\",\"v\"]\n",
    "def getMoves(x,y):\n",
    "    return [[x+1,y],[x-1,y],[x,y-1],[x,y+1]]\n",
    "\n",
    "def printRoom():\n",
    "    for row in room:\n",
    "        print(''.join(row))\n",
    "    print(' ')\n",
    "\n",
    "@cache\n",
    "def isPushable(x,y,direction): # can i move 1 over\n",
    "    if not (1 <= x < n-1 and 1 <= y < m-1):\n",
    "        return False\n",
    "    cell = room[y][x]\n",
    "    if cell == \"#\":\n",
    "        return False\n",
    "    if cell == \".\":\n",
    "        return True\n",
    "    for d,(nx,ny) in zip(directions,getMoves(x,y)):\n",
    "        if d != direction:\n",
    "            continue\n",
    "        if cell in \"[]\" and direction in \"^v\":\n",
    "            if cell == \"[\":\n",
    "                return isPushable(nx,ny,direction) and isPushable(nx+1,ny,direction)\n",
    "            else:\n",
    "                return isPushable(nx,ny,direction) and isPushable(nx-1,ny,direction)\n",
    "        return isPushable(nx,ny,direction)\n",
    "    return False\n",
    "\n",
    "def push(x,y,direction):\n",
    "    if not (1 <= x < n-1 and 1 <= y < m-1):\n",
    "        return False\n",
    "    if not isPushable(x,y,direction):\n",
    "        return False\n",
    "    cell = room[y][x]\n",
    "    if cell == \"#\":\n",
    "        return False\n",
    "    if cell == \".\":\n",
    "        return True\n",
    "    for d,(nx,ny) in zip(directions,getMoves(x,y)):\n",
    "        if d != direction:\n",
    "            continue\n",
    "        if cell in \"[]\" and direction in \"^v\": ## P2\n",
    "            if cell == \"[\":\n",
    "                if push(nx,ny,direction) and push(nx+1,ny,direction):\n",
    "                    room[ny][nx] = \"[\"\n",
    "                    room[y][x] = '.'\n",
    "                    room[ny][nx+1] = \"]\"\n",
    "                    room[y][x+1] = '.'\n",
    "                    return True\n",
    "            else: # ]\n",
    "                if push(nx,ny,direction) and push(nx-1,ny,direction):\n",
    "                    room[ny][nx] = \"]\"\n",
    "                    room[y][x] = '.'\n",
    "                    room[ny][nx-1] = \"[\"\n",
    "                    room[y][x-1] = '.'\n",
    "                    return True\n",
    "            return False\n",
    "        elif push(nx,ny,direction):\n",
    "            room[ny][nx] = cell\n",
    "            room[y][x] = '.'\n",
    "            return True\n",
    "        else:\n",
    "            return False\n",
    "\n",
    "def getRobot():\n",
    "    for y,row in enumerate(room):\n",
    "        for x,cell in enumerate(row):\n",
    "            if cell == \"@\":\n",
    "                return x,y\n",
    "    return -1,-1\n",
    "\n",
    "def instruct(instructions,ax,ay):\n",
    "    for c in instructions:\n",
    "        p = push(ax,ay,c)\n",
    "        if p:\n",
    "            for d,(nx,ny) in zip(directions,getMoves(ax,ay)):\n",
    "                if d != c:\n",
    "                    continue\n",
    "                ax,ay = nx,ny\n",
    "        isPushable.cache_clear()\n",
    "\n",
    "def getPoints():\n",
    "    gpssum = 0\n",
    "    for y,row in enumerate(room):\n",
    "        for x,cell in enumerate(row):\n",
    "            if cell in \"O[\":\n",
    "                gpssum += 100*y + x\n",
    "    return gpssum\n",
    "\n",
    "room = copy.deepcopy(room_)\n",
    "m,n = len(room),len(room[0])\n",
    "ax,ay = getRobot()\n",
    "instruct(instructions,ax,ay)\n",
    "points = getPoints()\n",
    "\n",
    "print(points)"
   ],
   "id": "325e733cef9ac4e8",
   "outputs": [
    {
     "name": "stdout",
     "output_type": "stream",
     "text": [
      "1463512\n"
     ]
    }
   ],
   "execution_count": 2
  },
  {
   "metadata": {
    "ExecuteTime": {
     "end_time": "2024-12-18T14:02:28.260508Z",
     "start_time": "2024-12-18T14:02:28.210325Z"
    }
   },
   "cell_type": "code",
   "source": [
    "def getWideRoom():\n",
    "    wideroom = []\n",
    "    for row in room_:\n",
    "        arr = []\n",
    "        for cell in row:\n",
    "            if cell == \"O\":\n",
    "                arr+=\"[\"\n",
    "                arr += \"]\"\n",
    "            elif cell == \"@\":\n",
    "                arr+=\"@\"\n",
    "                arr += \".\"\n",
    "            else:\n",
    "                arr+=cell\n",
    "                arr += cell\n",
    "        wideroom.append(arr)\n",
    "    return wideroom\n",
    "\n",
    "room = getWideRoom()\n",
    "m,n = len(room),len(room[0])\n",
    "ax,ay = getRobot()\n",
    "instruct(instructions,ax,ay)\n",
    "points = getPoints()\n",
    "\n",
    "print(points)"
   ],
   "id": "5dffd56df31b751b",
   "outputs": [
    {
     "name": "stdout",
     "output_type": "stream",
     "text": [
      "1486520\n"
     ]
    }
   ],
   "execution_count": 3
  }
 ],
 "metadata": {
  "kernelspec": {
   "display_name": "Python 3",
   "language": "python",
   "name": "python3"
  },
  "language_info": {
   "codemirror_mode": {
    "name": "ipython",
    "version": 2
   },
   "file_extension": ".py",
   "mimetype": "text/x-python",
   "name": "python",
   "nbconvert_exporter": "python",
   "pygments_lexer": "ipython2",
   "version": "2.7.6"
  }
 },
 "nbformat": 4,
 "nbformat_minor": 5
}
