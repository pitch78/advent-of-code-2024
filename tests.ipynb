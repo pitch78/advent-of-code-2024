{
 "cells": [
  {
   "metadata": {
    "ExecuteTime": {
     "end_time": "2024-12-06T10:58:55.363929Z",
     "start_time": "2024-12-06T10:58:55.358815Z"
    }
   },
   "cell_type": "code",
   "source": [
    "\n",
    "from enum import Enum\n",
    "\n",
    "\n",
    "class Direction(Enum):\n",
    "    UP = (1, 0, \"^\")\n",
    "    RIGHT = (0, 1, \">\")\n",
    "    BOTTOM = (-1, 0, \"v\")\n",
    "    LEFT = (0, -1, \"<\")\n",
    "\"\".join([d.value[2] for d in Direction])\n"
   ],
   "id": "a854735a9a36409e",
   "outputs": [
    {
     "data": {
      "text/plain": [
       "'^>v<'"
      ]
     },
     "execution_count": 8,
     "metadata": {},
     "output_type": "execute_result"
    }
   ],
   "execution_count": 8
  }
 ],
 "metadata": {
  "kernelspec": {
   "display_name": "Python 3",
   "language": "python",
   "name": "python3"
  },
  "language_info": {
   "codemirror_mode": {
    "name": "ipython",
    "version": 2
   },
   "file_extension": ".py",
   "mimetype": "text/x-python",
   "name": "python",
   "nbconvert_exporter": "python",
   "pygments_lexer": "ipython2",
   "version": "2.7.6"
  }
 },
 "nbformat": 4,
 "nbformat_minor": 5
}
