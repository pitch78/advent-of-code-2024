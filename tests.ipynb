{
 "cells": [
  {
   "metadata": {
    "ExecuteTime": {
     "end_time": "2024-12-08T17:23:01.789301Z",
     "start_time": "2024-12-08T17:23:01.782466Z"
    }
   },
   "cell_type": "code",
   "source": [
    "\n",
    "from enum import Enum\n",
    "\n",
    "\n",
    "class Direction(Enum):\n",
    "    UP = (1, 0, \"^\")\n",
    "    RIGHT = (0, 1, \">\")\n",
    "    BOTTOM = (-1, 0, \"v\")\n",
    "    LEFT = (0, -1, \"<\")\n",
    "[(d, (d.value[0], d.value[1])) for d in Direction]"
   ],
   "id": "a854735a9a36409e",
   "outputs": [
    {
     "data": {
      "text/plain": [
       "[(<Direction.UP: (1, 0, '^')>, (1, 0)),\n",
       " (<Direction.RIGHT: (0, 1, '>')>, (0, 1)),\n",
       " (<Direction.BOTTOM: (-1, 0, 'v')>, (-1, 0)),\n",
       " (<Direction.LEFT: (0, -1, '<')>, (0, -1))]"
      ]
     },
     "execution_count": 1,
     "metadata": {},
     "output_type": "execute_result"
    }
   ],
   "execution_count": 1
  },
  {
   "metadata": {
    "ExecuteTime": {
     "end_time": "2024-12-08T18:21:31.440206Z",
     "start_time": "2024-12-08T18:21:31.436853Z"
    }
   },
   "cell_type": "code",
   "source": [
    "from numpy import trunc, ceil\n",
    "from math import log\n",
    "\n",
    "a = 10\n",
    "b = 19\n",
    "a * 10 ** int(log(b, 10)+1) + b\n"
   ],
   "id": "b86cdfde80cce8a2",
   "outputs": [
    {
     "data": {
      "text/plain": [
       "1019"
      ]
     },
     "execution_count": 44,
     "metadata": {},
     "output_type": "execute_result"
    }
   ],
   "execution_count": 44
  },
  {
   "metadata": {},
   "cell_type": "code",
   "outputs": [],
   "execution_count": null,
   "source": "",
   "id": "344165641821b99b"
  }
 ],
 "metadata": {
  "kernelspec": {
   "display_name": "Python 3",
   "language": "python",
   "name": "python3"
  },
  "language_info": {
   "codemirror_mode": {
    "name": "ipython",
    "version": 2
   },
   "file_extension": ".py",
   "mimetype": "text/x-python",
   "name": "python",
   "nbconvert_exporter": "python",
   "pygments_lexer": "ipython2",
   "version": "2.7.6"
  }
 },
 "nbformat": 4,
 "nbformat_minor": 5
}
