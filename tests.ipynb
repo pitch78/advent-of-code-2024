{
 "cells": [
  {
   "metadata": {
    "ExecuteTime": {
     "end_time": "2024-12-04T09:45:43.971340Z",
     "start_time": "2024-12-04T09:45:43.964984Z"
    }
   },
   "cell_type": "code",
   "source": "enumerate   ([1,2,3])",
   "id": "669f766de8995fef",
   "outputs": [
    {
     "data": {
      "text/plain": [
       "<enumerate at 0x104ce4bd0>"
      ]
     },
     "execution_count": 6,
     "metadata": {},
     "output_type": "execute_result"
    }
   ],
   "execution_count": 6
  }
 ],
 "metadata": {
  "kernelspec": {
   "display_name": "Python 3",
   "language": "python",
   "name": "python3"
  },
  "language_info": {
   "codemirror_mode": {
    "name": "ipython",
    "version": 2
   },
   "file_extension": ".py",
   "mimetype": "text/x-python",
   "name": "python",
   "nbconvert_exporter": "python",
   "pygments_lexer": "ipython2",
   "version": "2.7.6"
  }
 },
 "nbformat": 4,
 "nbformat_minor": 5
}
